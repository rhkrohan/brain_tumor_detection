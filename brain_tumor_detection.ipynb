{
 "cells": [
  {
   "cell_type": "markdown",
   "metadata": {
    "id": "UaaQXnPeslkV"
   },
   "source": [
    "# Convolutional Neural Network CNN"
   ]
  },
  {
   "cell_type": "markdown",
   "metadata": {
    "id": "wUah2anpsrnT"
   },
   "source": [
    "## Importing the Libraries"
   ]
  },
  {
   "cell_type": "code",
   "execution_count": 223,
   "metadata": {
    "id": "A0FJMH74shTL"
   },
   "outputs": [],
   "source": [
    "import tensorflow as tf\n",
    "from tensorflow.keras.preprocessing.image import ImageDataGenerator"
   ]
  },
  {
   "cell_type": "markdown",
   "metadata": {
    "id": "J1N5Nlq2s4og"
   },
   "source": [
    "## Step 1 Data Preprocessing"
   ]
  },
  {
   "cell_type": "markdown",
   "metadata": {
    "id": "o5KoMiOhtf3I"
   },
   "source": [
    "### Preprocessing the Training set"
   ]
  },
  {
   "cell_type": "code",
   "execution_count": 227,
   "metadata": {
    "id": "J50jrmxrs8VU"
   },
   "outputs": [
    {
     "name": "stdout",
     "output_type": "stream",
     "text": [
      "Found 3177 images belonging to 2 classes.\n"
     ]
    }
   ],
   "source": [
    "train_datagen = ImageDataGenerator(\n",
    "    rescale = 1/255,\n",
    "    shear_range = 0.2,\n",
    "    zoom_range = 0.2,\n",
    "    horizontal_flip = True)\n",
    "\n",
    "train_dataset = train_datagen.flow_from_directory(\n",
    "    'dataset/training_set',\n",
    "    target_size = (64, 64),\n",
    "    batch_size = 32,\n",
    "    class_mode = 'binary'\n",
    ")"
   ]
  },
  {
   "cell_type": "markdown",
   "metadata": {
    "id": "z4Ojog8jvz2j"
   },
   "source": [
    "### Preprocessing the Test set"
   ]
  },
  {
   "cell_type": "code",
   "execution_count": 230,
   "metadata": {
    "id": "s2zIQNhFv495"
   },
   "outputs": [
    {
     "name": "stdout",
     "output_type": "stream",
     "text": [
      "Found 1423 images belonging to 2 classes.\n"
     ]
    }
   ],
   "source": [
    "test_datagen = ImageDataGenerator(rescale = 1./255)\n",
    "test_set = test_datagen.flow_from_directory('dataset/test_set',\n",
    "                                            target_size = (64, 64),\n",
    "                                            batch_size = 32,\n",
    "                                            class_mode = 'binary')"
   ]
  },
  {
   "cell_type": "markdown",
   "metadata": {
    "id": "Uza_tjoY5cWY"
   },
   "source": [
    "## Step 2 Building the CNN"
   ]
  },
  {
   "cell_type": "markdown",
   "metadata": {
    "id": "Mpsw6SFn5vdy"
   },
   "source": [
    "### Initialising the CNN"
   ]
  },
  {
   "cell_type": "code",
   "execution_count": 234,
   "metadata": {
    "id": "WJPOxbGu5mJl"
   },
   "outputs": [],
   "source": [
    "cnn = tf.keras.models.Sequential()"
   ]
  },
  {
   "cell_type": "markdown",
   "metadata": {
    "id": "FUs4wane5tM3"
   },
   "source": [
    "### Step 1 - Convolution"
   ]
  },
  {
   "cell_type": "code",
   "execution_count": 237,
   "metadata": {
    "id": "o2Oz-K2E5qgZ"
   },
   "outputs": [],
   "source": [
    "cnn.add(tf.keras.layers.Conv2D(filters = 32, kernel_size = 3, activation = 'relu', input_shape = [64, 64, 3]))"
   ]
  },
  {
   "cell_type": "markdown",
   "metadata": {
    "id": "wCxKhyhp69NF"
   },
   "source": [
    "### Step 2 - Pooling"
   ]
  },
  {
   "cell_type": "code",
   "execution_count": 240,
   "metadata": {
    "id": "lMdZlpAj7AUL"
   },
   "outputs": [],
   "source": [
    "cnn.add(tf.keras.layers.MaxPool2D(pool_size = 2, strides = 2))"
   ]
  },
  {
   "cell_type": "markdown",
   "metadata": {
    "id": "28mSk1Pf6_20"
   },
   "source": [
    "### Step 3 - Adding a second Convolutional Layer"
   ]
  },
  {
   "cell_type": "code",
   "execution_count": 200,
   "metadata": {
    "id": "NIYjuq8D7bB9"
   },
   "outputs": [],
   "source": [
    "cnn.add(tf.keras.layers.Conv2D(filters = 32, kernel_size = 3, activation = 'relu'))\n",
    "cnn.add(tf.keras.layers.MaxPool2D(pool_size = 2, strides = 2))"
   ]
  },
  {
   "cell_type": "markdown",
   "metadata": {
    "id": "vJua2npD8bPv"
   },
   "source": [
    "###Step 4 - Flattening"
   ]
  },
  {
   "cell_type": "code",
   "execution_count": 203,
   "metadata": {
    "id": "YiWCoooT8aaA"
   },
   "outputs": [],
   "source": [
    "cnn.add(tf.keras.layers.Flatten())"
   ]
  },
  {
   "cell_type": "markdown",
   "metadata": {
    "id": "yIdq72DS8p1_"
   },
   "source": [
    "### Step 5 - Full Connection"
   ]
  },
  {
   "cell_type": "code",
   "execution_count": 206,
   "metadata": {
    "id": "fuuC4Nhv8tLU"
   },
   "outputs": [],
   "source": [
    "cnn.add(tf.keras.layers.Dense(units = 128, activation = 'relu' ))"
   ]
  },
  {
   "cell_type": "code",
   "execution_count": 208,
   "metadata": {},
   "outputs": [],
   "source": [
    "cnn.add(tf.keras.layers.Dense(units = 10, activation = 'relu' ))"
   ]
  },
  {
   "cell_type": "markdown",
   "metadata": {
    "id": "twA1OSKu-Ycg"
   },
   "source": [
    "### Step 6 - Output Layer"
   ]
  },
  {
   "cell_type": "code",
   "execution_count": 211,
   "metadata": {
    "id": "mFq3azsT-dFQ"
   },
   "outputs": [],
   "source": [
    "cnn.add(tf.keras.layers.Dense(units = 1, activation = 'sigmoid' ))"
   ]
  },
  {
   "cell_type": "markdown",
   "metadata": {
    "id": "RAq3nGHw9Ctn"
   },
   "source": [
    "## Step 3 Training the CNN"
   ]
  },
  {
   "cell_type": "markdown",
   "metadata": {
    "id": "9qnjBu5b9HA9"
   },
   "source": [
    "### Compiling the CNN"
   ]
  },
  {
   "cell_type": "code",
   "execution_count": 215,
   "metadata": {
    "id": "mDs29EWA9JG1"
   },
   "outputs": [],
   "source": [
    "cnn.compile(optimizer = 'adam', loss = 'binary_crossentropy', metrics = ['accuracy'])"
   ]
  },
  {
   "cell_type": "markdown",
   "metadata": {
    "id": "PC4FJkSX9ZZE"
   },
   "source": [
    "### Training the CNN on Training set and evaluating Model Performance on Test set"
   ]
  },
  {
   "cell_type": "code",
   "execution_count": 218,
   "metadata": {
    "id": "EN-VhCDS9Yau"
   },
   "outputs": [
    {
     "name": "stdout",
     "output_type": "stream",
     "text": [
      "Epoch 1/25\n",
      "\u001b[1m100/100\u001b[0m \u001b[32m━━━━━━━━━━━━━━━━━━━━\u001b[0m\u001b[37m\u001b[0m \u001b[1m33s\u001b[0m 274ms/step - accuracy: 0.5936 - loss: 0.6641 - val_accuracy: 0.8756 - val_loss: 0.5238\n",
      "Epoch 2/25\n",
      "\u001b[1m100/100\u001b[0m \u001b[32m━━━━━━━━━━━━━━━━━━━━\u001b[0m\u001b[37m\u001b[0m \u001b[1m29s\u001b[0m 278ms/step - accuracy: 0.7262 - loss: 0.5489 - val_accuracy: 0.7646 - val_loss: 0.5837\n",
      "Epoch 3/25\n",
      "\u001b[1m100/100\u001b[0m \u001b[32m━━━━━━━━━━━━━━━━━━━━\u001b[0m\u001b[37m\u001b[0m \u001b[1m30s\u001b[0m 285ms/step - accuracy: 0.7810 - loss: 0.4601 - val_accuracy: 0.8890 - val_loss: 0.2906\n",
      "Epoch 4/25\n",
      "\u001b[1m100/100\u001b[0m \u001b[32m━━━━━━━━━━━━━━━━━━━━\u001b[0m\u001b[37m\u001b[0m \u001b[1m28s\u001b[0m 265ms/step - accuracy: 0.8203 - loss: 0.4153 - val_accuracy: 0.8243 - val_loss: 0.4165\n",
      "Epoch 5/25\n",
      "\u001b[1m100/100\u001b[0m \u001b[32m━━━━━━━━━━━━━━━━━━━━\u001b[0m\u001b[37m\u001b[0m \u001b[1m28s\u001b[0m 269ms/step - accuracy: 0.8304 - loss: 0.3725 - val_accuracy: 0.8187 - val_loss: 0.3985\n",
      "Epoch 6/25\n",
      "\u001b[1m100/100\u001b[0m \u001b[32m━━━━━━━━━━━━━━━━━━━━\u001b[0m\u001b[37m\u001b[0m \u001b[1m29s\u001b[0m 276ms/step - accuracy: 0.8378 - loss: 0.3525 - val_accuracy: 0.8433 - val_loss: 0.3779\n",
      "Epoch 7/25\n",
      "\u001b[1m100/100\u001b[0m \u001b[32m━━━━━━━━━━━━━━━━━━━━\u001b[0m\u001b[37m\u001b[0m \u001b[1m28s\u001b[0m 262ms/step - accuracy: 0.8594 - loss: 0.3114 - val_accuracy: 0.5179 - val_loss: 1.1609\n",
      "Epoch 8/25\n",
      "\u001b[1m100/100\u001b[0m \u001b[32m━━━━━━━━━━━━━━━━━━━━\u001b[0m\u001b[37m\u001b[0m \u001b[1m29s\u001b[0m 276ms/step - accuracy: 0.8610 - loss: 0.3109 - val_accuracy: 0.7850 - val_loss: 0.4967\n",
      "Epoch 9/25\n",
      "\u001b[1m100/100\u001b[0m \u001b[32m━━━━━━━━━━━━━━━━━━━━\u001b[0m\u001b[37m\u001b[0m \u001b[1m29s\u001b[0m 274ms/step - accuracy: 0.8945 - loss: 0.2296 - val_accuracy: 0.8468 - val_loss: 0.3633\n",
      "Epoch 10/25\n",
      "\u001b[1m100/100\u001b[0m \u001b[32m━━━━━━━━━━━━━━━━━━━━\u001b[0m\u001b[37m\u001b[0m \u001b[1m28s\u001b[0m 271ms/step - accuracy: 0.9121 - loss: 0.2174 - val_accuracy: 0.8595 - val_loss: 0.3233\n",
      "Epoch 11/25\n",
      "\u001b[1m100/100\u001b[0m \u001b[32m━━━━━━━━━━━━━━━━━━━━\u001b[0m\u001b[37m\u001b[0m \u001b[1m29s\u001b[0m 275ms/step - accuracy: 0.9333 - loss: 0.1768 - val_accuracy: 0.8665 - val_loss: 0.3276\n",
      "Epoch 12/25\n",
      "\u001b[1m100/100\u001b[0m \u001b[32m━━━━━━━━━━━━━━━━━━━━\u001b[0m\u001b[37m\u001b[0m \u001b[1m29s\u001b[0m 275ms/step - accuracy: 0.9310 - loss: 0.1841 - val_accuracy: 0.8714 - val_loss: 0.3155\n",
      "Epoch 13/25\n",
      "\u001b[1m100/100\u001b[0m \u001b[32m━━━━━━━━━━━━━━━━━━━━\u001b[0m\u001b[37m\u001b[0m \u001b[1m28s\u001b[0m 274ms/step - accuracy: 0.9390 - loss: 0.1621 - val_accuracy: 0.9129 - val_loss: 0.2138\n",
      "Epoch 14/25\n",
      "\u001b[1m100/100\u001b[0m \u001b[32m━━━━━━━━━━━━━━━━━━━━\u001b[0m\u001b[37m\u001b[0m \u001b[1m29s\u001b[0m 276ms/step - accuracy: 0.9403 - loss: 0.1556 - val_accuracy: 0.9339 - val_loss: 0.1729\n",
      "Epoch 15/25\n",
      "\u001b[1m100/100\u001b[0m \u001b[32m━━━━━━━━━━━━━━━━━━━━\u001b[0m\u001b[37m\u001b[0m \u001b[1m28s\u001b[0m 273ms/step - accuracy: 0.9484 - loss: 0.1419 - val_accuracy: 0.8798 - val_loss: 0.3119\n",
      "Epoch 16/25\n",
      "\u001b[1m100/100\u001b[0m \u001b[32m━━━━━━━━━━━━━━━━━━━━\u001b[0m\u001b[37m\u001b[0m \u001b[1m29s\u001b[0m 273ms/step - accuracy: 0.9470 - loss: 0.1324 - val_accuracy: 0.9164 - val_loss: 0.2153\n",
      "Epoch 17/25\n",
      "\u001b[1m100/100\u001b[0m \u001b[32m━━━━━━━━━━━━━━━━━━━━\u001b[0m\u001b[37m\u001b[0m \u001b[1m30s\u001b[0m 286ms/step - accuracy: 0.9560 - loss: 0.1175 - val_accuracy: 0.9403 - val_loss: 0.1678\n",
      "Epoch 18/25\n",
      "\u001b[1m100/100\u001b[0m \u001b[32m━━━━━━━━━━━━━━━━━━━━\u001b[0m\u001b[37m\u001b[0m \u001b[1m29s\u001b[0m 279ms/step - accuracy: 0.9748 - loss: 0.0795 - val_accuracy: 0.9058 - val_loss: 0.2562\n",
      "Epoch 19/25\n",
      "\u001b[1m100/100\u001b[0m \u001b[32m━━━━━━━━━━━━━━━━━━━━\u001b[0m\u001b[37m\u001b[0m \u001b[1m28s\u001b[0m 271ms/step - accuracy: 0.9623 - loss: 0.0954 - val_accuracy: 0.8391 - val_loss: 0.4840\n",
      "Epoch 20/25\n",
      "\u001b[1m100/100\u001b[0m \u001b[32m━━━━━━━━━━━━━━━━━━━━\u001b[0m\u001b[37m\u001b[0m \u001b[1m28s\u001b[0m 263ms/step - accuracy: 0.9749 - loss: 0.0657 - val_accuracy: 0.8665 - val_loss: 0.3672\n",
      "Epoch 21/25\n",
      "\u001b[1m100/100\u001b[0m \u001b[32m━━━━━━━━━━━━━━━━━━━━\u001b[0m\u001b[37m\u001b[0m \u001b[1m29s\u001b[0m 280ms/step - accuracy: 0.9701 - loss: 0.0747 - val_accuracy: 0.7386 - val_loss: 0.9174\n",
      "Epoch 22/25\n",
      "\u001b[1m100/100\u001b[0m \u001b[32m━━━━━━━━━━━━━━━━━━━━\u001b[0m\u001b[37m\u001b[0m \u001b[1m29s\u001b[0m 274ms/step - accuracy: 0.9804 - loss: 0.0597 - val_accuracy: 0.8363 - val_loss: 0.5411\n",
      "Epoch 23/25\n",
      "\u001b[1m100/100\u001b[0m \u001b[32m━━━━━━━━━━━━━━━━━━━━\u001b[0m\u001b[37m\u001b[0m \u001b[1m29s\u001b[0m 271ms/step - accuracy: 0.9698 - loss: 0.0712 - val_accuracy: 0.9100 - val_loss: 0.2516\n",
      "Epoch 24/25\n",
      "\u001b[1m100/100\u001b[0m \u001b[32m━━━━━━━━━━━━━━━━━━━━\u001b[0m\u001b[37m\u001b[0m \u001b[1m28s\u001b[0m 271ms/step - accuracy: 0.9795 - loss: 0.0606 - val_accuracy: 0.8897 - val_loss: 0.3391\n",
      "Epoch 25/25\n",
      "\u001b[1m100/100\u001b[0m \u001b[32m━━━━━━━━━━━━━━━━━━━━\u001b[0m\u001b[37m\u001b[0m \u001b[1m30s\u001b[0m 283ms/step - accuracy: 0.9743 - loss: 0.0716 - val_accuracy: 0.9108 - val_loss: 0.2556\n"
     ]
    },
    {
     "data": {
      "text/plain": [
       "<keras.src.callbacks.history.History at 0x28acd21ff80>"
      ]
     },
     "execution_count": 218,
     "metadata": {},
     "output_type": "execute_result"
    }
   ],
   "source": [
    "cnn.fit(x = train_dataset, validation_data = test_set, epochs = 25)"
   ]
  }
 ],
 "metadata": {
  "colab": {
   "provenance": []
  },
  "kernelspec": {
   "display_name": "Python 3 (ipykernel)",
   "language": "python",
   "name": "python3"
  },
  "language_info": {
   "codemirror_mode": {
    "name": "ipython",
    "version": 3
   },
   "file_extension": ".py",
   "mimetype": "text/x-python",
   "name": "python",
   "nbconvert_exporter": "python",
   "pygments_lexer": "ipython3",
   "version": "3.12.4"
  }
 },
 "nbformat": 4,
 "nbformat_minor": 4
}

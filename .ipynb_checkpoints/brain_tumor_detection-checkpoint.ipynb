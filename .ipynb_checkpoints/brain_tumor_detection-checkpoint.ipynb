{
  "nbformat": 4,
  "nbformat_minor": 0,
  "metadata": {
    "colab": {
      "provenance": []
    },
    "kernelspec": {
      "name": "python3",
      "display_name": "Python 3"
    },
    "language_info": {
      "name": "python"
    }
  },
  "cells": [
    {
      "cell_type": "markdown",
      "source": [
        "#Convolutional Neural Network CNN"
      ],
      "metadata": {
        "id": "UaaQXnPeslkV"
      }
    },
    {
      "cell_type": "markdown",
      "source": [
        "##Importing the Libraries"
      ],
      "metadata": {
        "id": "wUah2anpsrnT"
      }
    },
    {
      "cell_type": "code",
      "execution_count": 4,
      "metadata": {
        "id": "A0FJMH74shTL"
      },
      "outputs": [],
      "source": [
        "import tensorflow as tf\n",
        "from tensorflow.keras.preprocessing.image import ImageDataGenerator"
      ]
    },
    {
      "cell_type": "markdown",
      "source": [
        "##Step 1 Data Preprocessing"
      ],
      "metadata": {
        "id": "J1N5Nlq2s4og"
      }
    },
    {
      "cell_type": "markdown",
      "source": [
        "###Preprocessing the Training set"
      ],
      "metadata": {
        "id": "o5KoMiOhtf3I"
      }
    },
    {
      "cell_type": "code",
      "source": [
        "train_datagen = ImageDataGenerator(\n",
        "    rescale = 1/255,\n",
        "    shear_range = 0.2,\n",
        "    zoom_range = 0.2,\n",
        "    horizontal_flip = True)\n",
        "\n",
        "train_dataset = train_datagen.flow_from_directory(\n",
        "    'dataset/training_set',\n",
        "    target_size = (64, 64),\n",
        "    batch_size = 32,\n",
        "    class_mode = 'binary'\n",
        ")"
      ],
      "metadata": {
        "id": "J50jrmxrs8VU"
      },
      "execution_count": null,
      "outputs": []
    },
    {
      "cell_type": "markdown",
      "source": [
        "###Preprocessing the Test set"
      ],
      "metadata": {
        "id": "z4Ojog8jvz2j"
      }
    },
    {
      "cell_type": "code",
      "source": [
        "test_datagen = ImageDataGenerator(rescale = 1./255)\n",
        "test_set = test_datagen.flow_from_directory('dataset/test_set',\n",
        "                                            target_size = (64, 64),\n",
        "                                            batch_size = 32,\n",
        "                                            class_mode = 'binary')"
      ],
      "metadata": {
        "id": "s2zIQNhFv495"
      },
      "execution_count": null,
      "outputs": []
    },
    {
      "cell_type": "markdown",
      "source": [
        "## Step 2 Building the CNN"
      ],
      "metadata": {
        "id": "Uza_tjoY5cWY"
      }
    },
    {
      "cell_type": "markdown",
      "source": [
        "### Initialising the CNN"
      ],
      "metadata": {
        "id": "Mpsw6SFn5vdy"
      }
    },
    {
      "cell_type": "code",
      "source": [
        "cnn = tf.keras.models.Sequential()"
      ],
      "metadata": {
        "id": "WJPOxbGu5mJl"
      },
      "execution_count": null,
      "outputs": []
    },
    {
      "cell_type": "markdown",
      "source": [
        "### Step 1 - Convolution"
      ],
      "metadata": {
        "id": "FUs4wane5tM3"
      }
    },
    {
      "cell_type": "code",
      "source": [
        "cnn.add(tf.keras.layers.Conv2d(filters = 32, kernel_size = 3, activation = 'relu', input_shape = [64, 64, 3]))"
      ],
      "metadata": {
        "id": "o2Oz-K2E5qgZ"
      },
      "execution_count": null,
      "outputs": []
    },
    {
      "cell_type": "markdown",
      "source": [
        "### Step 2 - Pooling"
      ],
      "metadata": {
        "id": "wCxKhyhp69NF"
      }
    },
    {
      "cell_type": "code",
      "source": [
        "cnn.add(tf.keras.layers.MaxPool2D(pool_size = 2, strides = 2))"
      ],
      "metadata": {
        "id": "lMdZlpAj7AUL"
      },
      "execution_count": null,
      "outputs": []
    },
    {
      "cell_type": "markdown",
      "source": [
        "### Step 3 - Adding a second Convolutional Layer"
      ],
      "metadata": {
        "id": "28mSk1Pf6_20"
      }
    },
    {
      "cell_type": "code",
      "source": [
        "cnn.add(tf.keras.layers.Conv2D(filters = 32, kernel_size = 3, activation = 'relu'))\n",
        "cnn.add(tf.keras.layers.MaxPool2D(pool_size = 2, strides = 2))"
      ],
      "metadata": {
        "id": "NIYjuq8D7bB9"
      },
      "execution_count": null,
      "outputs": []
    },
    {
      "cell_type": "markdown",
      "source": [
        "###Step 4 - Flattening"
      ],
      "metadata": {
        "id": "vJua2npD8bPv"
      }
    },
    {
      "cell_type": "code",
      "source": [
        "cnn.add(tf.keras.layers.Flatten())"
      ],
      "metadata": {
        "id": "YiWCoooT8aaA"
      },
      "execution_count": null,
      "outputs": []
    },
    {
      "cell_type": "markdown",
      "source": [
        "### Step 5 - Full Connection"
      ],
      "metadata": {
        "id": "yIdq72DS8p1_"
      }
    },
    {
      "cell_type": "code",
      "source": [
        "cnn.add(tf.keras.layers.Dense(units = 128, activation = 'sigmoid' ))"
      ],
      "metadata": {
        "id": "fuuC4Nhv8tLU"
      },
      "execution_count": null,
      "outputs": []
    },
    {
      "cell_type": "markdown",
      "source": [
        "## Step 3 Training the CNN"
      ],
      "metadata": {
        "id": "RAq3nGHw9Ctn"
      }
    },
    {
      "cell_type": "markdown",
      "source": [
        "### Compiling the CNN"
      ],
      "metadata": {
        "id": "9qnjBu5b9HA9"
      }
    },
    {
      "cell_type": "code",
      "source": [
        "cnn.compile(optimizer = 'adam', loss = 'binary_crossentropy', metrics = ['accuracy'])"
      ],
      "metadata": {
        "id": "mDs29EWA9JG1"
      },
      "execution_count": null,
      "outputs": []
    },
    {
      "cell_type": "markdown",
      "source": [
        "### Training the CNN on Training set and evaluating Model Performance on Test set"
      ],
      "metadata": {
        "id": "PC4FJkSX9ZZE"
      }
    },
    {
      "cell_type": "code",
      "source": [
        "cnn.fit(x = train_dataset, validation_set = test_set, epochs = 25)"
      ],
      "metadata": {
        "id": "EN-VhCDS9Yau"
      },
      "execution_count": null,
      "outputs": []
    }
  ]
}